{
 "cells": [
  {
   "cell_type": "markdown",
   "metadata": {
    "collapsed": true
   },
   "source": [
    "[Inhaltsverzeichnis](table_of_contents.ipynb)"
   ]
  },
  {
   "cell_type": "markdown",
   "metadata": {},
   "source": [
    "## 6 Abtastung und Rekonstruktion\n",
    "### 6.1 Abtastung\n",
    "<img src=\"images/abtastung3.jpg\" width=\"600\">\n",
    "<img src=\"images/abtastung1.jpg\" width=\"600\">\n",
    "<img src=\"images/abtastung4.jpg\" width=\"600\">\n",
    "\n",
    "- mathematische Beschreibung\n",
    "<img src=\"images/abtastung.jpg\">\n",
    "\n",
    "- Abtastung von Tiefpasssignalen\n",
    "<img src=\"images/tp_alias.jpg\" width=\"600\">"
   ]
  },
  {
   "cell_type": "markdown",
   "metadata": {},
   "source": [
    "### 6.2 Abtasttheorem\n",
    "- Antialiasing-Tiefpass\n",
    "<img src=\"images/antialiasing_tp.jpg\" width=\"400\">"
   ]
  },
  {
   "cell_type": "markdown",
   "metadata": {},
   "source": [
    "### 6.3 Quantisierung\n",
    "<img src=\"images/quantisierungskennlinie.jpg\" width=\"300\">"
   ]
  },
  {
   "cell_type": "code",
   "execution_count": null,
   "metadata": {
    "scrolled": true
   },
   "outputs": [],
   "source": [
    "from scipy.io import wavfile\n",
    "from IPython.display import Audio"
   ]
  },
  {
   "cell_type": "markdown",
   "metadata": {},
   "source": [
    "#### <font color=\"#FF0000\">Eingabezelle</font>"
   ]
  },
  {
   "cell_type": "code",
   "execution_count": null,
   "metadata": {},
   "outputs": [],
   "source": [
    "#sd = 'sound\\\\quant_16.wav'\n",
    "#sd = 'sound\\\\quant_8.wav'\n",
    "#sd = 'sound\\\\quant_4.wav'\n",
    "sd = 'sound\\\\quant_1.wav'"
   ]
  },
  {
   "cell_type": "code",
   "execution_count": null,
   "metadata": {},
   "outputs": [],
   "source": [
    "fs, sounddat = wavfile.read(sd)\n",
    "Audio(data = sounddat, rate = fs)"
   ]
  },
  {
   "cell_type": "markdown",
   "metadata": {},
   "source": [
    "### 6.4 Rekonstruktion abgetasteter Signale\n",
    "#### 6.4.1 Vorbetrachtungen\n",
    "- kontinuierliche periodische Funktion im Zeit- und Frequenzbereich\n",
    "<img src=\"images/441_bild1.jpg\" width=\"700\">\n",
    "- diskrete periodische Funktion im Zeit- und Frequenzbereich\n",
    "<img src=\"images/441_bild2.jpg\" width=\"700\">\n",
    "- Beschreibung im Frequenzbereich\n",
    "<img src=\"images/441_bild3.jpg\" width=\"300\">\n",
    "- Rekonstruktion mit \"Spiegelspektren\" (nur Originalspektrum)\n",
    "<img src=\"images/441_bild4.jpg\" width=\"700\">\n",
    "- Rekonstruktion mit \"Spiegelspektren\" (10 Spiegelspektren)\n",
    "<img src=\"images/441_bild5.jpg\" width=\"700\">\n",
    "- Rekonstruktion mit \"Spiegelspektren\" (1000 Spiegelspektren)\n",
    "<img src=\"images/441_bild6.jpg\" width=\"700\">"
   ]
  },
  {
   "cell_type": "markdown",
   "metadata": {},
   "source": [
    "#### 6.4.2 Sample & Hold\n",
    "<img src=\"images/443_bild1.jpg\" width=\"700\">\n",
    "\n",
    "- Auswirkung des Sample & Hold Verfahrens\n",
    "<img src=\"images/443_bild2.jpg\" width=\"700\">\n",
    "\n",
    "- Erklärung\n",
    "<img src=\"images/443_bild4.jpg\" width=\"700\">\n",
    "\n",
    "- Spektrum der Rechteckfunktion\n",
    "<img src=\"images/443_bild5.jpg\" width=\"700\">\n",
    "\n",
    "- Verknüpfung Signal- und Systemspektrum\n",
    "<img src=\"images/443_bild6.jpg\" width=\"300\">\n",
    "\n",
    "- Ausweg\n",
    "<img src=\"images/443_bild7.jpg\" width=\"700\">\n"
   ]
  },
  {
   "cell_type": "markdown",
   "metadata": {},
   "source": [
    "#### 6.4.3 Ideale Rekonstruktion\n",
    "<img src=\"images/444_bild1.jpg\" width=\"700\">\n",
    "\n",
    "- Veranschaulichung der idealen Rekonstruktion\n",
    "<img src=\"images/444_bild2.jpg\" width=\"700\">"
   ]
  },
  {
   "cell_type": "markdown",
   "metadata": {},
   "source": [
    "#### [Demonstrationen zu Abtastung und Rekonstruktion](abtast_reko-Demo.ipynb)"
   ]
  }
 ],
 "metadata": {
  "anaconda-cloud": {},
  "kernelspec": {
   "display_name": "Python 3",
   "language": "python",
   "name": "python3"
  },
  "language_info": {
   "codemirror_mode": {
    "name": "ipython",
    "version": 3
   },
   "file_extension": ".py",
   "mimetype": "text/x-python",
   "name": "python",
   "nbconvert_exporter": "python",
   "pygments_lexer": "ipython3",
   "version": "3.6.5"
  }
 },
 "nbformat": 4,
 "nbformat_minor": 1
}
