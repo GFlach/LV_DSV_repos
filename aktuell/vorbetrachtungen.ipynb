{
 "cells": [
  {
   "cell_type": "markdown",
   "metadata": {},
   "source": [
    "[Inhaltsverzeichnis](table_of_contents.ipynb)"
   ]
  },
  {
   "cell_type": "markdown",
   "metadata": {
    "collapsed": true
   },
   "source": [
    "## 1 Vorbetrachtungen"
   ]
  },
  {
   "cell_type": "markdown",
   "metadata": {},
   "source": [
    "### 1.1 Organisatorisches\n",
    "<img src=\"images/jupyter.jpg\">\n",
    "<img src=\"images/jupyter1.jpg\">\n",
    "<img src=\"images/jupyter2.jpg\">"
   ]
  },
  {
   "cell_type": "markdown",
   "metadata": {},
   "source": [
    "### 1.2 Überblick und Beispiele\n",
    "- Leckortung mit Korrelation\n",
    "\n",
    "<img src=\"images/beispiel1_1.jpg\">\n",
    "<img src=\"images/beispiel1_2.jpg\">"
   ]
  },
  {
   "cell_type": "markdown",
   "metadata": {},
   "source": [
    "- Diskrete Fouriertransformation\n",
    "\n",
    "<img src=\"images/beispiel2_1.jpg\">\n",
    "<img src=\"images/beispiel2_2.jpg\">"
   ]
  },
  {
   "cell_type": "markdown",
   "metadata": {},
   "source": [
    "- Digitale Filterung \n",
    "\n",
    "<img src=\"images/beispiel3_1.jpg\">\n",
    "<img src=\"images/beispiel3_2.jpg\">"
   ]
  },
  {
   "cell_type": "markdown",
   "metadata": {},
   "source": [
    "- Signalerzeugung\n",
    "\n",
    "<img src=\"images/beispiel4_1.jpg\">\n",
    "<img src=\"images/beispiel4_2.jpg\">"
   ]
  }
 ],
 "metadata": {
  "anaconda-cloud": {},
  "kernelspec": {
   "display_name": "Python 3",
   "language": "python",
   "name": "python3"
  },
  "language_info": {
   "codemirror_mode": {
    "name": "ipython",
    "version": 3
   },
   "file_extension": ".py",
   "mimetype": "text/x-python",
   "name": "python",
   "nbconvert_exporter": "python",
   "pygments_lexer": "ipython3",
   "version": "3.7.1"
  }
 },
 "nbformat": 4,
 "nbformat_minor": 1
}
