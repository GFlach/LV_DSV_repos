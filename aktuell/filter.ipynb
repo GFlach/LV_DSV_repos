{
 "cells": [
  {
   "cell_type": "markdown",
   "metadata": {},
   "source": [
    "[Inhaltsverzeichnis](table_of_contents.ipynb)"
   ]
  },
  {
   "cell_type": "markdown",
   "metadata": {
    "collapsed": true
   },
   "source": [
    "## 10 Digitalfilter"
   ]
  },
  {
   "cell_type": "code",
   "execution_count": null,
   "metadata": {},
   "outputs": [],
   "source": [
    "%matplotlib\n",
    "%pylab inline\n",
    "import numpy as np\n",
    "import matplotlib.pyplot as plt\n",
    "import functions.dsv1 as dsv1\n",
    "import functions.dsvorg as do\n",
    "from IPython.display import Audio\n",
    "import functions.dac as dac\n",
    "import functions.bsfilter as bsfilter\n",
    "import functions.signal as sig"
   ]
  },
  {
   "cell_type": "markdown",
   "metadata": {},
   "source": [
    "### Beispiel aus Vorlesung\n",
    "Entwurf eines Digitalfilters (RC-TP 1. Ordnung mit Grenzfrequenz $f_{g}$) über invariante Impulsantwort"
   ]
  },
  {
   "cell_type": "code",
   "execution_count": null,
   "metadata": {},
   "outputs": [],
   "source": [
    "w = 200\n",
    "tau = 1\n",
    "fg = 1/(2 * np.pi * tau)\n",
    "fs = 10\n",
    "f = fg\n",
    "fac = 10\n",
    "\n",
    "# Sprungfunktion\n",
    "#x = np.ones(w)\n",
    "\n",
    "# Einsimpuls\n",
    "#x = np.zeros(w)\n",
    "#x[0] = 1\n",
    "\n",
    "#Sinusschwingung (f)\n",
    "#n = np.arange(0,w)\n",
    "#x = np.sin(2*np.pi*f*n/fs)\n",
    "\n",
    "#Sinusschwingung (f + fac*f)\n",
    "n = np.arange(0,w)\n",
    "x = np.sin(2*np.pi*f*n/fs) + np.sin(2*np.pi*fac*f*n/fs)\n",
    "\n",
    "plt.stem(x)\n",
    "Ts = 1/fs\n",
    "b_0 = Ts/(Ts + tau)\n",
    "a_1 = b_0 - 1\n",
    "y = np.zeros(w)\n",
    "y[-1] = 0\n",
    "for i in (np.arange(-1,w-1)):\n",
    "    y[i+1] = b_0 * x[i+1] - a_1 * y[i]\n",
    "plt.stem(np.arange(0,w), y[0:w], 'r')\n",
    "plt.grid()"
   ]
  },
  {
   "cell_type": "markdown",
   "metadata": {},
   "source": [
    "### Entwurf mit Fenstermethode"
   ]
  },
  {
   "cell_type": "code",
   "execution_count": null,
   "metadata": {},
   "outputs": [],
   "source": [
    "f1 = 10\n",
    "f2 = 20\n",
    "fg = 15\n",
    "fs = 100\n",
    "N = 50\n",
    "n = np.arange(0,N)\n",
    "x = np.sin(2*np.pi*f1/fs*n) + np.sin(2*np.pi*f2/fs*n)\n",
    "plt.plot(x)\n",
    "plt.grid()"
   ]
  },
  {
   "cell_type": "code",
   "execution_count": null,
   "metadata": {},
   "outputs": [],
   "source": [
    "k = np.arange(-N/2, N/2)\n",
    "f_koeff = np.sinc(k*fg/(fs/2))\n",
    "plt.stem(k,f_koeff)\n",
    "plt.grid()"
   ]
  },
  {
   "cell_type": "code",
   "execution_count": null,
   "metadata": {},
   "outputs": [],
   "source": [
    "anz_koeff = 10\n",
    "f_koeff = f_koeff[int(N/2)-int(anz_koeff/2):int(N/2)+int(anz_koeff/2)]\n",
    "plt.stem(f_koeff)\n",
    "plt.grid()"
   ]
  },
  {
   "cell_type": "code",
   "execution_count": null,
   "metadata": {},
   "outputs": [],
   "source": [
    "x_TP = np.convolve(x, f_koeff)\n",
    "plt.plot(x)\n",
    "plt.plot(x_TP)\n",
    "plt.grid()"
   ]
  }
 ],
 "metadata": {
  "anaconda-cloud": {},
  "kernelspec": {
   "display_name": "Python 3",
   "language": "python",
   "name": "python3"
  },
  "language_info": {
   "codemirror_mode": {
    "name": "ipython",
    "version": 3
   },
   "file_extension": ".py",
   "mimetype": "text/x-python",
   "name": "python",
   "nbconvert_exporter": "python",
   "pygments_lexer": "ipython3",
   "version": "3.7.1"
  }
 },
 "nbformat": 4,
 "nbformat_minor": 1
}
