{
 "cells": [
  {
   "cell_type": "code",
   "execution_count": null,
   "metadata": {},
   "outputs": [],
   "source": [
    "%matplotlib\n",
    "%pylab inline\n",
    "import numpy as np\n",
    "import matplotlib.pyplot as plt\n",
    "#import dsv.uebung.dsv1 as dsv1\n",
    "import functions.dsvorg as do\n",
    "from IPython.display import Audio\n",
    "import functions.dac as dac\n",
    "import functions.bsfilter as bsfilter\n",
    "#import dsv.classes.signal as sig"
   ]
  },
  {
   "cell_type": "markdown",
   "metadata": {},
   "source": [
    "### Demonstrationen zu Abtastung und Rekonstruktion"
   ]
  },
  {
   "cell_type": "markdown",
   "metadata": {},
   "source": [
    "#### Zeitfunktionen zu einer Abtastwertefolge\n",
    "Eine Sinusschwingung der Frequenz 1 Hz wird mit einer Frequenz von 6 Hz abgetastet. Die entstehenden Abtastwerte könnten jedoch auch zu anderen Schwingungen (höherer positiver bzw. negativer Frequenzen) gehören.\n",
    "\n",
    "In der folgenden Zelle wird eine passende zufällige Frequenz zwischen -23 Hz und 25 Hz angezeigt."
   ]
  },
  {
   "cell_type": "code",
   "execution_count": null,
   "metadata": {},
   "outputs": [],
   "source": [
    "do.demo_aliasing()"
   ]
  },
  {
   "cell_type": "markdown",
   "metadata": {},
   "source": [
    "#### Demonstration von Aliasingfehlern\n",
    "Ein akustisches Signal (Mischung von Tönen 1 kHz  und 4 kHz) soll  mit 10 kHz und  mit 6 kHz abgetastet werden. Ändern Sie den Parameter (fS) entsprechend. Welche Frequenzen sind zu hören?"
   ]
  },
  {
   "cell_type": "markdown",
   "metadata": {},
   "source": [
    "#### <font color=\"#FF0000\">Eingabezelle</font>"
   ]
  },
  {
   "cell_type": "code",
   "execution_count": null,
   "metadata": {},
   "outputs": [],
   "source": [
    "fS = 6000"
   ]
  },
  {
   "cell_type": "code",
   "execution_count": null,
   "metadata": {},
   "outputs": [],
   "source": [
    "sig1 = do.generate_signal(1000,fS)\n",
    "sig2 = do.generate_signal(4000,fS)\n",
    "sig_sum = sig1 + sig2\n",
    "Audio(data = sig_sum, rate = fS)"
   ]
  },
  {
   "cell_type": "markdown",
   "metadata": {},
   "source": [
    "#### Analoge harmonische Schwingungen im Zeit- und Frequenzbereich\n",
    "In der folgenden Zelle können Sie ein Signal aus 1 bis 3 Harmonischen (Basisfrequenz und ganzzahlige Vielfache) kombinieren und anschließend im Zeit- und Frequenzbereich darstellen. Der dargestellte Frequenzbereich kann bis 1024 Hz umfassen."
   ]
  },
  {
   "cell_type": "code",
   "execution_count": null,
   "metadata": {},
   "outputs": [],
   "source": [
    "f1 = 4\n",
    "f2 = 8\n",
    "f3 = 128\n",
    "fmax = 512   #maximal dargestellte Frequenz"
   ]
  },
  {
   "cell_type": "code",
   "execution_count": null,
   "metadata": {},
   "outputs": [],
   "source": [
    "y = dac.analog_t(f1=f1, f2=f2, f3=f3)\n",
    "dac.analog_f(y, fmax=fmax)"
   ]
  },
  {
   "cell_type": "markdown",
   "metadata": {},
   "source": [
    "#### Digitale harmonische Schwingungen im Zeit- und Frequenzbereich\n",
    "Das gerade erzeugte Signal wird mit der Frequenz `fS` abgetastet."
   ]
  },
  {
   "cell_type": "markdown",
   "metadata": {},
   "source": [
    "#### <font color=\"#FF0000\">Eingabezelle</font>"
   ]
  },
  {
   "cell_type": "code",
   "execution_count": null,
   "metadata": {},
   "outputs": [],
   "source": [
    "fS = 512"
   ]
  },
  {
   "cell_type": "code",
   "execution_count": null,
   "metadata": {},
   "outputs": [],
   "source": [
    "y_d = dac.digital_t(f1=f1, f2=f2, f3=f3, fS=fS)\n",
    "if len(y_d) > 1:\n",
    "    dac.digital_f(y_d, fmax=fmax)"
   ]
  },
  {
   "cell_type": "markdown",
   "metadata": {},
   "source": [
    "#### Zeitsignal aus der Beschreibung im Frequenzbereich generieren\n",
    "In der folgenden Zelle können Sie ein kontinuierliches Signal aus maximal 3 Spektralkoeffizienten `fx = [amplitude, frequenz]` erzeugen. Desweiteren können Sie testen, wie durch die Einbeziehung der Spiegelspektren ein abgetastetes Signal im Zeitbereich entsteht. Für dieses Experiment ist die Abtastfrequenz mit 16 Hz festgelegt."
   ]
  },
  {
   "cell_type": "markdown",
   "metadata": {},
   "source": [
    "#### <font color=\"#FF0000\">Eingabezelle</font>"
   ]
  },
  {
   "cell_type": "code",
   "execution_count": null,
   "metadata": {},
   "outputs": [],
   "source": [
    "f1 = [0.5, 1]\n",
    "f2 = [0.3, 2]\n",
    "f3 = [1,4]\n",
    "anz_spek = 100"
   ]
  },
  {
   "cell_type": "code",
   "execution_count": null,
   "metadata": {
    "scrolled": true
   },
   "outputs": [],
   "source": [
    "dac.generate_analog_sig(f1=f1, f2=f2, f3=f3)\n",
    "dac.generate_dig_sig(f1=f1, f2=f2, f3=f3, anz_spek=anz_spek)"
   ]
  },
  {
   "cell_type": "markdown",
   "metadata": {},
   "source": [
    "#### Sample & Hold\n",
    "In der folgenden Zelle wird das Verfahren veranschaulicht. Dazu wird ein Gemisch aus drei Harmonischen erzeugt und dargestellt. Weiterhin wird die Abtastwertefolge und das Sample & Hold Signal dargestellt. Dazu werden 1024 Werte betrachtet. Das entspricht einer Zeit von 1 s."
   ]
  },
  {
   "cell_type": "markdown",
   "metadata": {},
   "source": [
    "#### <font color=\"#FF0000\">Eingabezelle</font>"
   ]
  },
  {
   "cell_type": "code",
   "execution_count": null,
   "metadata": {},
   "outputs": [],
   "source": [
    "f1 = 8\n",
    "f2 = 0\n",
    "f3 = 0\n",
    "fS = 64"
   ]
  },
  {
   "cell_type": "code",
   "execution_count": null,
   "metadata": {},
   "outputs": [],
   "source": [
    "data = dac.analog_sig(f1=f1, f2=f2, f3=f3)\n",
    "dac.sample_hold(data, fS=fS)"
   ]
  },
  {
   "cell_type": "markdown",
   "metadata": {},
   "source": [
    "Der durch das Sample & Hold Verfahren bedingte Effekt soll jetzt hörbar gemacht werden. Dazu wird ein Signalgemisch durch Addition zweier Harmonischer (mit `f1`und `f2`) erzeugt. Aus diesem wird ein Sample & Hold Signal erzeugt, indem ein Abtastwert `16000/fS` Werte gehalten wird. (Zulässige Werte für `fS` sind: `16000, 8000, 4000, 2000, 1000, 500`).\n",
    "Die durch das Verfahren entstehenden hohen Frequenzen werden durch Tiefpassfilterung entfernt."
   ]
  },
  {
   "cell_type": "markdown",
   "metadata": {},
   "source": [
    "#### <font color=\"#FF0000\">Eingabezelle</font>"
   ]
  },
  {
   "cell_type": "code",
   "execution_count": null,
   "metadata": {},
   "outputs": [],
   "source": [
    "f1 = 400\n",
    "f2 = 1800\n",
    "fS = 4000"
   ]
  },
  {
   "cell_type": "code",
   "execution_count": null,
   "metadata": {},
   "outputs": [],
   "source": [
    "data1 = do.generate_signal(f1)\n",
    "data2 = do.sys2(data1, f2)\n",
    "data3 = dac.sample_hold_audio(data2,fS=fS)"
   ]
  },
  {
   "cell_type": "code",
   "execution_count": null,
   "metadata": {},
   "outputs": [],
   "source": [
    "data3_filt = bsfilter.filter_appl(16000, data3, fgu=0, fgo=fS/2, order=10, typ='lp')\n",
    "y = np.fft.fft(data3_filt)/len(data3_filt)\n",
    "y1 = np.abs(np.fft.fftshift(y))\n",
    "f = np.linspace(-8000,7999,16000)\n",
    "plt.axis([-fS/2,fS/2,0,1])\n",
    "plt.grid(True)\n",
    "plt.title('Spektrum des Sample & Hold Signals')\n",
    "plt.plot(f,y1)\n",
    "plt.show()"
   ]
  },
  {
   "cell_type": "code",
   "execution_count": null,
   "metadata": {},
   "outputs": [],
   "source": [
    "audio = np.append(data2, data3_filt)\n",
    "Audio(data = audio, rate = 16000)"
   ]
  },
  {
   "cell_type": "markdown",
   "metadata": {},
   "source": [
    "####  Ideale Rekonstruktion\n",
    "In der folgenden Zelle können Sie die ideale Rekonstruktion testen. Für einen Zeitabschnitt von 3 Sekunden können Sie ein kontinuierliches Signal aus maximal 3 Frequenzkomponenten erstellen (Originalsignal). Dieses wird mit einer wählbaren Frequenz (Zweierpotenz) abgetastet und anschließend rekonstruiert."
   ]
  },
  {
   "cell_type": "markdown",
   "metadata": {},
   "source": [
    "#### <font color=\"#FF0000\">Eingabezelle</font>"
   ]
  },
  {
   "cell_type": "code",
   "execution_count": null,
   "metadata": {},
   "outputs": [],
   "source": [
    "f1 = 5\n",
    "f2 = 0\n",
    "f3 = 0\n",
    "fS = 32"
   ]
  },
  {
   "cell_type": "code",
   "execution_count": null,
   "metadata": {},
   "outputs": [],
   "source": [
    "dac.analog_reko(f1=f1, f2=f2, f3=f3,fS=fS)"
   ]
  }
 ],
 "metadata": {
  "kernelspec": {
   "display_name": "Python 3",
   "language": "python",
   "name": "python3"
  },
  "language_info": {
   "codemirror_mode": {
    "name": "ipython",
    "version": 3
   },
   "file_extension": ".py",
   "mimetype": "text/x-python",
   "name": "python",
   "nbconvert_exporter": "python",
   "pygments_lexer": "ipython3",
   "version": "3.7.3"
  }
 },
 "nbformat": 4,
 "nbformat_minor": 1
}
