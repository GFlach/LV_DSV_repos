{
 "cells": [
  {
   "cell_type": "markdown",
   "metadata": {
    "collapsed": true
   },
   "source": [
    "[Inhaltsverzeichnis](table_of_contents.ipynb)"
   ]
  },
  {
   "cell_type": "markdown",
   "metadata": {},
   "source": [
    "## 5 Signalverarbeitende Systeme\n",
    "### 5.1 Eigenschaften digitaler Systeme\n",
    "- Veranschaulichung der Nichtlinearität\n",
    "<img src=\"images/lin_sys1.jpg\">\n",
    "- Nachweis der Nichtlinearität\n",
    "<img src=\"images/lin_sys2.jpg\" width=\"400\">\n",
    "\n",
    "### 5.2 Signalverarbeitungskette\n",
    "<img src=\"images/sv_kette.jpg\" width=\"400\">"
   ]
  }
 ],
 "metadata": {
  "anaconda-cloud": {},
  "kernelspec": {
   "display_name": "Python 3",
   "language": "python",
   "name": "python3"
  },
  "language_info": {
   "codemirror_mode": {
    "name": "ipython",
    "version": 3
   },
   "file_extension": ".py",
   "mimetype": "text/x-python",
   "name": "python",
   "nbconvert_exporter": "python",
   "pygments_lexer": "ipython3",
   "version": "3.7.1"
  }
 },
 "nbformat": 4,
 "nbformat_minor": 1
}
