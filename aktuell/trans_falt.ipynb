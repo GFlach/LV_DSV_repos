{
 "cells": [
  {
   "cell_type": "markdown",
   "metadata": {
    "collapsed": true
   },
   "source": [
    "[Inhaltsverzeichnis](table_of_contents.ipynb)"
   ]
  },
  {
   "cell_type": "code",
   "execution_count": 1,
   "metadata": {},
   "outputs": [
    {
     "name": "stdout",
     "output_type": "stream",
     "text": [
      "Using matplotlib backend: Qt5Agg\n",
      "Populating the interactive namespace from numpy and matplotlib\n"
     ]
    }
   ],
   "source": [
    "%matplotlib\n",
    "%pylab inline\n",
    "import numpy as np\n",
    "import matplotlib.pyplot as plt\n",
    "from IPython.display import Audio\n",
    "from scipy.io import wavfile"
   ]
  },
  {
   "cell_type": "markdown",
   "metadata": {},
   "source": [
    "## 4 Transformation und Faltung\n",
    "- Einführung\n",
    "\n",
    "### Licht\n",
    "<img src=\"images/prisma.gif\">\n",
    "Quelle: www.lernhelfer.de/schuelerlexikon/physik-abitur/artikel/spektren-und-spektralanalyse\n",
    "<img src=\"images/beispiel_spektrum.jpg\">\n",
    "\n",
    "### Töne\n",
    "<img src=\"images/fourier_einf1.jpg\">"
   ]
  },
  {
   "cell_type": "code",
   "execution_count": null,
   "metadata": {},
   "outputs": [],
   "source": [
    "fs, sound = wavfile.read('sound\\\\fourierreihe.wav')\n",
    "Audio(data = sound, rate = fs)"
   ]
  },
  {
   "cell_type": "markdown",
   "metadata": {},
   "source": [
    "<img src=\"images/fourier_einf2.jpg\">\n",
    "<img src=\"images/fourier_einf3.jpg\">\n",
    "<img src=\"images/fourier_einf4.jpg\">\n",
    "<img src=\"images/fourier_einf5.jpg\">"
   ]
  },
  {
   "cell_type": "markdown",
   "metadata": {},
   "source": [
    "### 4.1 Fourierreihe\n",
    "<img src=\"images/fourierreihe.jpg\" width=\"600\">"
   ]
  },
  {
   "cell_type": "markdown",
   "metadata": {},
   "source": [
    "### 4.2 Fouriersynthese\n",
    "- Tastverhältnis 1:2\n",
    "<img src=\"images/transform_demo2.jpg\" width=\"500\">\n",
    "\n",
    "- Tastverhältnis 1:4\n",
    "<img src=\"images/transform_demo3.jpg\" width=\"500\">"
   ]
  },
  {
   "cell_type": "markdown",
   "metadata": {},
   "source": [
    "### 4.3 Fouriertransformation\n",
    "### 4.4 Diskrete Fouriertransformation\n",
    "Transformationsgleichungen für 4 Koeffizienten aus 4 Abtastwerten \n",
    "$$\n",
    "\\underline{X}_{0}=\\frac{1}{4}\\left( x\\left(0\\right) e^{-j\\frac{2\\pi}{4}\\cdot0\\cdot0}+\n",
    " x\\left(1\\right) e^{-j\\frac{2\\pi}{4}\\cdot0\\cdot1}+ x\\left(2\\right) e^{-j\\frac{2\\pi}{4}\\cdot0\\cdot2}+ x\\left(3\\right) e^{-j\\frac{2\\pi}{4}\\cdot0\\cdot3}\\right)\n",
    "$$\n",
    "\n",
    "$$\n",
    "\\underline{X}_{1}=\\frac{1}{4}\\left( x\\left(0\\right) e^{-j\\frac{2\\pi}{4}\\cdot1\\cdot0}+ x\\left(1\\right) e^{-j\\frac{2\\pi}{4}\\cdot1\\cdot1}+ x\\left(2\\right) e^{-j\\frac{2\\pi}{4}\\cdot1\\cdot2}+ x\\left(3\\right) e^{-j\\frac{2\\pi}{4}\\cdot1\\cdot3}\\right)\n",
    "$$\n",
    "\n",
    "$$\n",
    "\\underline{X}_{2}=\\frac{1}{4}\\left( x\\left(0\\right) e^{-j\\frac{2\\pi}{4}\\cdot2\\cdot0}+ x\\left(1\\right) e^{-j\\frac{2\\pi}{4}\\cdot2\\cdot1}+ x\\left(2\\right) e^{-j\\frac{2\\pi}{4}\\cdot2\\cdot2}+ x\\left(3\\right) e^{-j\\frac{2\\pi}{4}\\cdot2\\cdot3}\\right)\n",
    "$$\n",
    "\n",
    "$$\n",
    "\\underline{X}_{3}=\\frac{1}{4}\\left( x\\left(0\\right) e^{-j\\frac{2\\pi}{4}\\cdot3\\cdot0}+ x\\left(1\\right) e^{-j\\frac{2\\pi}{4}\\cdot3\\cdot1}+ x\\left(2\\right) e^{-j\\frac{2\\pi}{4}\\cdot3\\cdot2}+ x\\left(3\\right) e^{-j\\frac{2\\pi}{4}\\cdot3\\cdot3}\\right)\n",
    "$$\n",
    "\n",
    "Matrixschreibweise:\n",
    "$$\n",
    "\\left(\\begin{array}{c}\n",
    "\\underline{X}_{0}\\\\\n",
    "\\underline{X}_{1}\\\\\n",
    "\\underline{X}_{2}\\\\\n",
    "\\underline{X}_{3}\n",
    "\\end{array}\\right)=\\frac{1}{4}\\left(\\begin{array}{cccc}\n",
    "e^{-j\\frac{\\pi}{2}\\cdot0} & e^{-j\\frac{\\pi}{2}\\cdot0} & e^{-j\\frac{\\pi}{2}\\cdot0} & e^{-j\\frac{\\pi}{2}\\cdot0}\\\\\n",
    "e^{-j\\frac{\\pi}{2}\\cdot0} & e^{-j\\frac{\\pi}{2}\\cdot1} & e^{-j\\pi\\cdot2} & e^{-j\\frac{\\pi}{2}\\cdot3}\\\\\n",
    "e^{-j\\frac{\\pi}{2}\\cdot0} & e^{-j\\frac{\\pi}{2}\\cdot2} & e^{-j\\frac{\\pi}{2}\\cdot4} & e^{-j\\frac{\\pi}{2}\\cdot6}\\\\\n",
    "e^{-j\\frac{\\pi}{2}\\cdot0} & e^{-j\\frac{\\pi}{2}\\cdot3} & e^{-j\\frac{\\pi}{2}\\cdot6} & e^{-j\\frac{\\pi}{2}\\cdot9}\n",
    "\\end{array}\\right)\\cdot\\left(\\begin{array}{c}\n",
    "x\\left(0\\right)\\\\\n",
    "x\\left(1\\right)\\\\\n",
    "x\\left(2\\right)\\\\\n",
    "x\\left(3\\right)\n",
    "\\end{array}\\right)\n",
    "$$\n"
   ]
  },
  {
   "cell_type": "markdown",
   "metadata": {
    "collapsed": true
   },
   "source": [
    "### 4.5 Faltung\n",
    "<img src=\"images/faltung1.jpg\">\n",
    "- Berechnung der Faltung durch Multiplikation ohne Übertrag\n",
    "<img src=\"images/faltung2.jpg\" width=\"500\">"
   ]
  }
 ],
 "metadata": {
  "anaconda-cloud": {},
  "kernelspec": {
   "display_name": "Python 3",
   "language": "python",
   "name": "python3"
  },
  "language_info": {
   "codemirror_mode": {
    "name": "ipython",
    "version": 3
   },
   "file_extension": ".py",
   "mimetype": "text/x-python",
   "name": "python",
   "nbconvert_exporter": "python",
   "pygments_lexer": "ipython3",
   "version": "3.6.5"
  }
 },
 "nbformat": 4,
 "nbformat_minor": 1
}
