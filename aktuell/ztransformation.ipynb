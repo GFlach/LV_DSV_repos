{
 "cells": [
  {
   "cell_type": "markdown",
   "metadata": {
    "collapsed": true
   },
   "source": [
    "[Inhaltsverzeichnis](table_of_contents.ipynb)"
   ]
  },
  {
   "cell_type": "markdown",
   "metadata": {},
   "source": [
    "## 9 z-Transformation\n",
    "### 9.1 Vorüberlegungen\n",
    "<img src = 'images/ztrans_2.jpg' width = '600'>\n",
    "<img src = 'images/ztrans_1.jpg' width = '600'>\n",
    "### 9.2 Fouriertransformation und z-Transformation\n",
    "### 9.3 Eigenschaften der z-Transformation\n",
    "### 9.4 Differenzengleichung und Übertragungsfunktion\n",
    "### 9.5 Inverse z-Transformierte\n",
    "### 9.6 Anwendungsbeispiele zur z-Transformation\n",
    "### 9.7 Übertragungsfunktion und Frequenzgang\n",
    "<img src = 'images/z_trans1.jpg'>\n",
    "<img src = 'images/z_trans2.jpg'>"
   ]
  }
 ],
 "metadata": {
  "anaconda-cloud": {},
  "kernelspec": {
   "display_name": "Python 3",
   "language": "python",
   "name": "python3"
  },
  "language_info": {
   "codemirror_mode": {
    "name": "ipython",
    "version": 3
   },
   "file_extension": ".py",
   "mimetype": "text/x-python",
   "name": "python",
   "nbconvert_exporter": "python",
   "pygments_lexer": "ipython3",
   "version": "3.6.5"
  }
 },
 "nbformat": 4,
 "nbformat_minor": 1
}
