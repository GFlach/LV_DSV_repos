{
 "cells": [
  {
   "cell_type": "markdown",
   "metadata": {
    "collapsed": true
   },
   "source": [
    "[Inhaltsverzeichnis](table_of_contents.ipynb)"
   ]
  },
  {
   "cell_type": "markdown",
   "metadata": {},
   "source": [
    "## 3 Signale\n",
    "### 3.1 Elementare zeitdiskrete Signale\n",
    "- abklingendes Exponentialsignal\n",
    "<img src=\"images/exp_sig1.jpg\" width=\"400\">\n",
    "- zweiseitiges Exponentialsignal\n",
    "<img src=\"images/exp_sig2.jpg\" width=\"400\">\n",
    "- oszillierendes Exponentialsignal\n",
    "<img src=\"images/exp_sig3.jpg\" width=\"400\">\n",
    "- Gaußimpuls\n",
    "<img src=\"images/gauss.jpg\" width=\"400\">\n",
    "\n",
    "### 3.2 Energie- und Leistungssignale\n",
    "\n",
    "### 3.3 Gerade und ungerade Signale"
   ]
  }
 ],
 "metadata": {
  "anaconda-cloud": {},
  "kernelspec": {
   "display_name": "Python 3",
   "language": "python",
   "name": "python3"
  },
  "language_info": {
   "codemirror_mode": {
    "name": "ipython",
    "version": 3
   },
   "file_extension": ".py",
   "mimetype": "text/x-python",
   "name": "python",
   "nbconvert_exporter": "python",
   "pygments_lexer": "ipython3",
   "version": "3.6.5"
  }
 },
 "nbformat": 4,
 "nbformat_minor": 1
}
