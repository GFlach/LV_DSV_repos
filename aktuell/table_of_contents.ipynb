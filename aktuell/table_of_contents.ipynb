{
 "cells": [
  {
   "cell_type": "markdown",
   "metadata": {
    "collapsed": true
   },
   "source": [
    "# LV Digitale Signalverarbeitung SS2018"
   ]
  },
  {
   "cell_type": "markdown",
   "metadata": {},
   "source": [
    "### Inhaltsverzeichnis"
   ]
  },
  {
   "cell_type": "markdown",
   "metadata": {
    "collapsed": true
   },
   "source": [
    "[**1 Vorbetrachtungen**](vorbetrachtungen.ipynb)\n",
    "\n",
    "[**2 Einführung**](einfuehrung.ipynb)\n",
    "\n",
    "[**3 Signale**](signale.ipynb)\n",
    "\n",
    "[**4 Transformation und Faltung**](transfalt.ipynb)\n",
    "\n",
    "[**5 Signalverarbeitende Systeme**](svsysteme.ipynb)\n",
    "\n",
    "[**6 Abtastung und Rekonstruktion**](abtastreko.ipynb)\n",
    "\n",
    "[**7 Signalverarbeitung im Originalbereich**](originalbereich.ipynb)\n",
    "\n",
    "[**8 Signalverarbeitung im Bildbereich**](bildbereich.ipynb)\n",
    "\n",
    "[**9 z-Transformation**](ztransformation.ipynb)\n",
    "\n",
    "[**10 Digitalfilter**](leer.ipynb)\n",
    "\n",
    "[**11 Übungen**](uebung.ipynb)\n"
   ]
  },
  {
   "cell_type": "code",
   "execution_count": null,
   "metadata": {
    "collapsed": true
   },
   "outputs": [],
   "source": []
  }
 ],
 "metadata": {
  "anaconda-cloud": {},
  "kernelspec": {
   "display_name": "Python 3",
   "language": "python",
   "name": "python3"
  },
  "language_info": {
   "codemirror_mode": {
    "name": "ipython",
    "version": 3
   },
   "file_extension": ".py",
   "mimetype": "text/x-python",
   "name": "python",
   "nbconvert_exporter": "python",
   "pygments_lexer": "ipython3",
   "version": "3.7.1"
  }
 },
 "nbformat": 4,
 "nbformat_minor": 1
}
