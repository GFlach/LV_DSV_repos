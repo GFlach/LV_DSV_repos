{
 "cells": [
  {
   "cell_type": "markdown",
   "metadata": {
    "collapsed": true
   },
   "source": [
    "[Inhaltsverzeichnis](table_of_contents.ipynb)"
   ]
  },
  {
   "cell_type": "code",
   "execution_count": null,
   "metadata": {},
   "outputs": [],
   "source": [
    "%pylab inline\n",
    "import functions.demo_fft as df"
   ]
  },
  {
   "cell_type": "markdown",
   "metadata": {},
   "source": [
    "## 8 Signalverarbeitung im Bildbereich\n",
    "### 8.1 Berechnung der DFT mittels FFT\n",
    "\n",
    "- Auswirkung des zero-padding\n",
    "<img src = 'images/dft-fft_3.jpg' width='600'>\n",
    "\n",
    "- Verwendung des Leistungsspektrums und des logarithmierten Spektrums\n",
    "<img src = 'images/dft-fft_4.jpg' width='600'>\n",
    "- Verwendung des Leistungsspektrums und des logarithmierten Spektrums bei realen Signalen (Sprache)\n",
    "<img src = 'images/dft-fft_8.jpg' width='600'>"
   ]
  },
  {
   "cell_type": "markdown",
   "metadata": {},
   "source": [
    "[Demonstration Spektralanalyse](frequenzanalyse.ipynb)"
   ]
  },
  {
   "cell_type": "markdown",
   "metadata": {
    "collapsed": true
   },
   "source": [
    "### 8.2 Wichtige Eigenschaften der DFT/FFT\n",
    "### 8.3 DFT-Approximation der Fouriertransformierten \n",
    "### 8.4 Leakage und Fensterung"
   ]
  },
  {
   "cell_type": "code",
   "execution_count": null,
   "metadata": {},
   "outputs": [],
   "source": [
    "df.demo_leakage(80, 1000, 0.05)"
   ]
  },
  {
   "cell_type": "code",
   "execution_count": null,
   "metadata": {},
   "outputs": [],
   "source": [
    "df.demo_hamming(80, 1000, 0.05)"
   ]
  },
  {
   "cell_type": "markdown",
   "metadata": {
    "collapsed": true
   },
   "source": [
    "### 8.5 Cepstrumanalyse\n",
    "\n",
    "### Zitat:\n",
    "\n",
    "### By appling a low-pass lifter to the cepstrum in Figure 2 to extract the low quefrency components below the first rahmonic peak, the slowly varying curve results.\n",
    "\n",
    "\n",
    "<img src = 'images/cepstrumanalyse1.jpg' width = '600'>\n",
    "\n",
    "-----------\n",
    "\n",
    "<img src = 'images/cepstrum2.jpg' width = '600'>"
   ]
  }
 ],
 "metadata": {
  "anaconda-cloud": {},
  "kernelspec": {
   "display_name": "Python 3",
   "language": "python",
   "name": "python3"
  },
  "language_info": {
   "codemirror_mode": {
    "name": "ipython",
    "version": 3
   },
   "file_extension": ".py",
   "mimetype": "text/x-python",
   "name": "python",
   "nbconvert_exporter": "python",
   "pygments_lexer": "ipython3",
   "version": "3.6.5"
  }
 },
 "nbformat": 4,
 "nbformat_minor": 1
}
