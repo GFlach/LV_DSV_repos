{
 "cells": [
  {
   "cell_type": "markdown",
   "metadata": {
    "collapsed": true
   },
   "source": [
    "[Inhaltsverzeichnis](table_of_contents.ipynb)"
   ]
  },
  {
   "cell_type": "markdown",
   "metadata": {},
   "source": [
    "## 7 Signalverarbeitung im Originalbereich\n",
    "### 7.1 Beschreibung im Originalbereich\n",
    "#### 7.2 Zufallsprozesse und -größen\n",
    "#### 7.3 Univariate Zufallsvariable\n",
    "<img src='images/momente.jpg'>"
   ]
  },
  {
   "cell_type": "markdown",
   "metadata": {},
   "source": [
    "#### 7.4 Multivariate Zufallsvariable\n",
    "<img src='images/covariance1.jpg' width='300'>\n",
    "<img src='images/covariance2.jpg' width='300'>\n",
    "<img src='images/covariance3.jpg' width='300'>\n",
    "<img src='images/stat_da1.jpg' width='400'>\n",
    "<img src='images/stat_da2.jpg' width='400'>\n",
    "<img src='images/stat_da3.jpg' width='400'>\n",
    "<img src='images/stat_da4.jpg' width='400'>\n",
    "<img src='images/stat_da5.jpg' width='400'>\n",
    "<img src='images/stat_da6.jpg' width='400'>\n",
    "<img src='images/stat_da7.jpg' width='400'>\n",
    "<img src='images/stat_da8.jpg' width='300'>\n",
    "<img src='images/stat_da9.jpg' width='400'>\n",
    "<img src='images/stat_da10.jpg' width='400'>\n",
    "<img src='images/stat_da11.jpg' width='400'>\n",
    "<img src='images/stat_da12.jpg' width='400'>"
   ]
  },
  {
   "cell_type": "markdown",
   "metadata": {},
   "source": [
    "### 7.5 Verarbeitung im Originalbereich\n",
    "#### 7.5.1 Korrelation\n",
    "#### 7.5.2 Signalfilterung im Zeitbereich\n",
    "#### 7.5.3 Hauptachsentransformation"
   ]
  }
 ],
 "metadata": {
  "anaconda-cloud": {},
  "kernelspec": {
   "display_name": "Python 3",
   "language": "python",
   "name": "python3"
  },
  "language_info": {
   "codemirror_mode": {
    "name": "ipython",
    "version": 3
   },
   "file_extension": ".py",
   "mimetype": "text/x-python",
   "name": "python",
   "nbconvert_exporter": "python",
   "pygments_lexer": "ipython3",
   "version": "3.7.1"
  }
 },
 "nbformat": 4,
 "nbformat_minor": 1
}
