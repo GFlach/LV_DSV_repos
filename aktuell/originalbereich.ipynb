{
 "cells": [
  {
   "cell_type": "markdown",
   "metadata": {
    "collapsed": true
   },
   "source": [
    "[Inhaltsverzeichnis](table_of_contents.ipynb)"
   ]
  },
  {
   "cell_type": "markdown",
   "metadata": {},
   "source": [
    "## 7 Signalverarbeitung im Originalbereich\n",
    "### 7.1 Beschreibung im Originalbereich\n",
    "#### 7.1.1 Zufallsprozesse und -größen\n",
    "#### 7.1.2 Univariate Zufallsvariable\n",
    "<img src='images/momente.jpg'>"
   ]
  },
  {
   "cell_type": "markdown",
   "metadata": {},
   "source": [
    "#### 7.1.3 Multivariate Zufallsvariable\n",
    "<img src='images/covariance1.jpg'>\n",
    "<img src='images/covariance2.jpg'>\n",
    "<img src='images/covariance3.jpg'>\n",
    "<img src='images/stat_da1.jpg' width='600'>\n",
    "<img src='images/stat_da2.jpg' width='600'>\n",
    "<img src='images/stat_da3.jpg' width='600'>\n",
    "<img src='images/stat_da4.jpg' width='600'>\n",
    "<img src='images/stat_da5.jpg' width='600'>\n",
    "<img src='images/stat_da6.jpg' width='400'>\n",
    "<img src='images/stat_da7.jpg' width='400'>\n",
    "<img src='images/stat_da8.jpg' width='400'>\n",
    "<img src='images/stat_da9.jpg' width='600'>\n",
    "<img src='images/stat_da10.jpg' width='600'>\n",
    "<img src='images/stat_da11.jpg' width='600'>\n",
    "<img src='images/stat_da12.jpg' width='600'>"
   ]
  },
  {
   "cell_type": "markdown",
   "metadata": {},
   "source": [
    "### 7.2 Verarbeitung im Originalbereich\n",
    "#### 7.2.1 Korrelation\n",
    "#### 7.2.2 Signalfilterung im Zeitbereich\n",
    "#### 7.2.3 Hauptachsentransformation"
   ]
  }
 ],
 "metadata": {
  "anaconda-cloud": {},
  "kernelspec": {
   "display_name": "Python 3",
   "language": "python",
   "name": "python3"
  },
  "language_info": {
   "codemirror_mode": {
    "name": "ipython",
    "version": 3
   },
   "file_extension": ".py",
   "mimetype": "text/x-python",
   "name": "python",
   "nbconvert_exporter": "python",
   "pygments_lexer": "ipython3",
   "version": "3.6.0"
  }
 },
 "nbformat": 4,
 "nbformat_minor": 1
}
